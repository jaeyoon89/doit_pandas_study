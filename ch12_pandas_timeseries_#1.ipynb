{
 "cells": [
  {
   "cell_type": "markdown",
   "id": "close-fusion",
   "metadata": {},
   "source": [
    "# 시계열 데이터\n",
    "\n",
    "\n",
    "\n",
    "## datetime 오브젝트\n",
    "\n",
    "\n",
    "\n",
    "datetime 라이브러리는 날짜와 시간을 처리하는 등의 다양한 기능을 제공하는 파이썬 라이브러리이다. datetime 라이브러리에는 날짜를 처리하는 date 오브젝트, 시간을 처리하는 time 오브젝트, 날짜와 시간을 모두 처리하는 datetime 오브젝트가 포함되어 있다. \n",
    "\n",
    "\n",
    "\n",
    "- datetime 오브젝트 사용하기\n",
    "\n",
    "\n",
    "1) datetime 오브젝트를 사용하기 위해 datetime 라이브러리를 불러온다."
   ]
  },
  {
   "cell_type": "code",
   "execution_count": 1,
   "id": "toxic-heating",
   "metadata": {},
   "outputs": [],
   "source": [
    "from datetime import datetime"
   ]
  },
  {
   "cell_type": "markdown",
   "id": "complex-table",
   "metadata": {},
   "source": [
    "2) now, today 메서드를 사용하면 다음과 같이 현재 시간을 출력할 수 있다."
   ]
  },
  {
   "cell_type": "code",
   "execution_count": 3,
   "id": "respiratory-structure",
   "metadata": {},
   "outputs": [
    {
     "name": "stdout",
     "output_type": "stream",
     "text": [
      "2021-03-26 21:06:29.357795\n",
      "2021-03-26 21:06:29.357795\n"
     ]
    }
   ],
   "source": [
    "now1 = datetime.now()\n",
    "print(now1)\n",
    "\n",
    "\n",
    "now2 = datetime.today()\n",
    "print(now2)"
   ]
  },
  {
   "cell_type": "markdown",
   "id": "numeric-france",
   "metadata": {},
   "source": [
    "3) 다음은 datetime 오브젝트를 생성할 때 시간을 직접 입력하여 인자로 전달한 것이다. 각 변수를 출력하여 확인해 보면 입력한 시간을 바탕으로 datetime 오브젝트가 생성된 것을 알 수 있다."
   ]
  },
  {
   "cell_type": "code",
   "execution_count": 4,
   "id": "aware-plenty",
   "metadata": {},
   "outputs": [
    {
     "name": "stdout",
     "output_type": "stream",
     "text": [
      "2021-03-26 21:08:40.254743\n",
      "1970-01-01 00:00:00\n",
      "1970-12-12 13:24:34\n"
     ]
    }
   ],
   "source": [
    "t1 = datetime.now()\n",
    "t2 = datetime(1970,1,1)\n",
    "t3 = datetime(1970,12,12,13,24,34)\n",
    "\n",
    "print(t1)\n",
    "print(t2)\n",
    "print(t3)"
   ]
  },
  {
   "cell_type": "markdown",
   "id": "fewer-climate",
   "metadata": {},
   "source": [
    "4) datetime 오브젝트를 사용하는 이유 중 하나는 시간 계산을 할 수 있다는 점이다. 다음은 두 datetime 오브젝트의 차이를 구한 것이다."
   ]
  },
  {
   "cell_type": "code",
   "execution_count": 7,
   "id": "contrary-drink",
   "metadata": {},
   "outputs": [
    {
     "name": "stdout",
     "output_type": "stream",
     "text": [
      "18712 days, 21:08:40.254743\n",
      "<class 'datetime.timedelta'>\n",
      "-18713 days, 2:51:19.745257\n",
      "<class 'datetime.timedelta'>\n"
     ]
    }
   ],
   "source": [
    "diff1 = t1-t2\n",
    "\n",
    "print(diff1)\n",
    "print(type(diff1))\n",
    "\n",
    "diff2 = t2-t1\n",
    "\n",
    "print(diff2)\n",
    "print(type(diff2))"
   ]
  },
  {
   "cell_type": "markdown",
   "id": "chicken-petroleum",
   "metadata": {},
   "source": [
    "### datetime 오브젝트로 변환하기 - to_datetime 메서드\n",
    "\n",
    "\n",
    "\n",
    "경우에 따라서는 시계열 데이터를 문자열로 저장해야 할 때도 있다. 하지만 문자열은 시간 계산을 할 수 없기 때문에 datetime 오브젝트로 변환해 주어야 한다. \n",
    "\n",
    "\n",
    "- 문자열을 datetime 오브젝트로 변환하기\n",
    "\n",
    "\n",
    "1) 먼저 ebola 데이터 집합을 불러온다."
   ]
  },
  {
   "cell_type": "code",
   "execution_count": 10,
   "id": "upper-berkeley",
   "metadata": {},
   "outputs": [],
   "source": [
    "import pandas as pd\n",
    "import os\n",
    "\n",
    "ebola = pd.read_csv('C:/Users/이재윤/doit_pandas/data/country_timeseries.csv')"
   ]
  },
  {
   "cell_type": "markdown",
   "id": "configured-lewis",
   "metadata": {},
   "source": [
    "2) ebola 데이터프레임을 보면 문자열로 저장된 Date 열이 있는 것을 알 수 있다."
   ]
  },
  {
   "cell_type": "code",
   "execution_count": 11,
   "id": "brilliant-communist",
   "metadata": {},
   "outputs": [
    {
     "name": "stdout",
     "output_type": "stream",
     "text": [
      "<class 'pandas.core.frame.DataFrame'>\n",
      "RangeIndex: 122 entries, 0 to 121\n",
      "Data columns (total 18 columns):\n",
      " #   Column               Non-Null Count  Dtype  \n",
      "---  ------               --------------  -----  \n",
      " 0   Date                 122 non-null    object \n",
      " 1   Day                  122 non-null    int64  \n",
      " 2   Cases_Guinea         93 non-null     float64\n",
      " 3   Cases_Liberia        83 non-null     float64\n",
      " 4   Cases_SierraLeone    87 non-null     float64\n",
      " 5   Cases_Nigeria        38 non-null     float64\n",
      " 6   Cases_Senegal        25 non-null     float64\n",
      " 7   Cases_UnitedStates   18 non-null     float64\n",
      " 8   Cases_Spain          16 non-null     float64\n",
      " 9   Cases_Mali           12 non-null     float64\n",
      " 10  Deaths_Guinea        92 non-null     float64\n",
      " 11  Deaths_Liberia       81 non-null     float64\n",
      " 12  Deaths_SierraLeone   87 non-null     float64\n",
      " 13  Deaths_Nigeria       38 non-null     float64\n",
      " 14  Deaths_Senegal       22 non-null     float64\n",
      " 15  Deaths_UnitedStates  18 non-null     float64\n",
      " 16  Deaths_Spain         16 non-null     float64\n",
      " 17  Deaths_Mali          12 non-null     float64\n",
      "dtypes: float64(16), int64(1), object(1)\n",
      "memory usage: 17.3+ KB\n",
      "None\n"
     ]
    }
   ],
   "source": [
    "print(ebola.info())"
   ]
  },
  {
   "cell_type": "markdown",
   "id": "continent-entity",
   "metadata": {},
   "source": [
    "3) to_datetime 메서드를 사용하면 Date 열의 자료형을 datetime 오브젝트로 변환할 수 있다. 다음과 같이 to_datetime 메서드를 사용하여 Date 열의 자료형을 datetime 오브젝트로 변환한 다음 ebola 데이터프레임에 새로운 열로 추가한다."
   ]
  },
  {
   "cell_type": "code",
   "execution_count": 12,
   "id": "brief-paper",
   "metadata": {},
   "outputs": [
    {
     "name": "stdout",
     "output_type": "stream",
     "text": [
      "<class 'pandas.core.frame.DataFrame'>\n",
      "RangeIndex: 122 entries, 0 to 121\n",
      "Data columns (total 19 columns):\n",
      " #   Column               Non-Null Count  Dtype         \n",
      "---  ------               --------------  -----         \n",
      " 0   Date                 122 non-null    object        \n",
      " 1   Day                  122 non-null    int64         \n",
      " 2   Cases_Guinea         93 non-null     float64       \n",
      " 3   Cases_Liberia        83 non-null     float64       \n",
      " 4   Cases_SierraLeone    87 non-null     float64       \n",
      " 5   Cases_Nigeria        38 non-null     float64       \n",
      " 6   Cases_Senegal        25 non-null     float64       \n",
      " 7   Cases_UnitedStates   18 non-null     float64       \n",
      " 8   Cases_Spain          16 non-null     float64       \n",
      " 9   Cases_Mali           12 non-null     float64       \n",
      " 10  Deaths_Guinea        92 non-null     float64       \n",
      " 11  Deaths_Liberia       81 non-null     float64       \n",
      " 12  Deaths_SierraLeone   87 non-null     float64       \n",
      " 13  Deaths_Nigeria       38 non-null     float64       \n",
      " 14  Deaths_Senegal       22 non-null     float64       \n",
      " 15  Deaths_UnitedStates  18 non-null     float64       \n",
      " 16  Deaths_Spain         16 non-null     float64       \n",
      " 17  Deaths_Mali          12 non-null     float64       \n",
      " 18  date_dt              122 non-null    datetime64[ns]\n",
      "dtypes: datetime64[ns](1), float64(16), int64(1), object(1)\n",
      "memory usage: 18.2+ KB\n",
      "None\n"
     ]
    }
   ],
   "source": [
    "ebola['date_dt'] = pd.to_datetime(ebola['Date'])\n",
    "print(ebola.info())"
   ]
  },
  {
   "cell_type": "markdown",
   "id": "taken-canon",
   "metadata": {},
   "source": [
    "4) 시간 형식 지정자(%d,%m,%y)와 기호를 적절히 조합하여 format 인자에 전달하면 그 형식에 맞게 정리된 datetime 오브젝트를 얻을 수 있다."
   ]
  },
  {
   "cell_type": "code",
   "execution_count": 14,
   "id": "cheap-break",
   "metadata": {},
   "outputs": [
    {
     "name": "stdout",
     "output_type": "stream",
     "text": [
      "  order_day   date_dt1   date_dt2   date_dt3\n",
      "0  01/01/15 2015-01-01 2015-01-01 2001-01-15\n",
      "1  02/01/15 2015-01-02 2015-02-01 2002-01-15\n",
      "2  03/01/15 2015-01-03 2015-03-01 2003-01-15\n"
     ]
    }
   ],
   "source": [
    "test_df1 = pd.DataFrame({'order_day':['01/01/15', '02/01/15', '03/01/15']})\n",
    "\n",
    "test_df1['date_dt1'] = pd.to_datetime(test_df1['order_day'], format='%d/%m/%y')\n",
    "test_df1['date_dt2'] = pd.to_datetime(test_df1['order_day'], format='%m/%d/%y')\n",
    "test_df1['date_dt3'] = pd.to_datetime(test_df1['order_day'], format='%y/%m/%d')\n",
    "\n",
    "print(test_df1)\n",
    "                                      "
   ]
  },
  {
   "cell_type": "code",
   "execution_count": 15,
   "id": "younger-petersburg",
   "metadata": {},
   "outputs": [
    {
     "name": "stdout",
     "output_type": "stream",
     "text": [
      "  order_day    date_dt\n",
      "0  01-01-15 2015-01-01\n",
      "1  02-01-15 2015-01-02\n",
      "2  03-01-15 2015-01-03\n"
     ]
    }
   ],
   "source": [
    "test_df2 = pd.DataFrame({'order_day':['01-01-15', '02-01-15', '03-01-15']})\n",
    "test_df2['date_dt'] = pd.to_datetime(test_df2['order_day'], format='%d-%m-%y')\n",
    "\n",
    "print(test_df2)\n",
    "                                    "
   ]
  },
  {
   "cell_type": "markdown",
   "id": "employed-numbers",
   "metadata": {},
   "source": [
    "- 알아두면 좋아요\n",
    "\n",
    "\n",
    "now 메서드로 얻은 현재시간의 시계열 데이터는 아주 정밀한 단위까지 시간을 표현한다. 하지만 원하는 시계열 데이터의 시간 요소가 연도, 월, 일 뿐이라면 now 메서드로 얻은 시계열 데이터를 잘라내야한다. 아래는 strftime 메서드와 시간 형식 지정자를 이용하여 시계열 데이터를 잘라낸 것이다."
   ]
  },
  {
   "cell_type": "code",
   "execution_count": 17,
   "id": "cordless-interference",
   "metadata": {},
   "outputs": [
    {
     "name": "stdout",
     "output_type": "stream",
     "text": [
      "2021-03-26 21:31:10.630264\n",
      "2021-03-26\n",
      "21:31:10\n",
      "2021-03-26 21:31:10\n"
     ]
    }
   ],
   "source": [
    "now = datetime.now()\n",
    "print(now)\n",
    "\n",
    "nowDate = now.strftime('%Y-%m-%d')\n",
    "print(nowDate)\n",
    "\n",
    "nowTime = now.strftime('%H:%M:%S')\n",
    "print(nowTime)\n",
    "\n",
    "nowDatetime = now.strftime('%Y-%m-%d %H:%M:%S')\n",
    "print(nowDatetime)"
   ]
  },
  {
   "cell_type": "markdown",
   "id": "pointed-equality",
   "metadata": {},
   "source": [
    "### datetime 오브젝트로 변환하기 - read_csv 메서드\n",
    "\n",
    "\n",
    "\n",
    "앞에서 to_datetime 메서드를 사용하여 문자열로 저장되어 있는 Date 열을 datetime 오브젝트로 변환했다. 하지만 datetime 오브젝트로는 변환하려는 열을 지정하여 데이터 집합을 불러오는 것이 더 간단하다.\n",
    "\n",
    "\n",
    "- datetime 오브젝트로 변환하려는 열을 지정하여 데이터 집합 불러오기\n",
    "\n",
    "\n",
    "1) 다음은 read_csv 메서드의 parse_dates 인자에 datetime 오브젝트로 변환하고자 하는 열의 이름을 전달하여 집합을 불러온 것이다. 결과를 보면 Date 열이 문자열이 아니라 datetime 오브젝트라는 것을 확인할 수 있다."
   ]
  },
  {
   "cell_type": "code",
   "execution_count": 20,
   "id": "noticed-environment",
   "metadata": {},
   "outputs": [
    {
     "name": "stdout",
     "output_type": "stream",
     "text": [
      "<class 'pandas.core.frame.DataFrame'>\n",
      "RangeIndex: 122 entries, 0 to 121\n",
      "Data columns (total 18 columns):\n",
      " #   Column               Non-Null Count  Dtype         \n",
      "---  ------               --------------  -----         \n",
      " 0   Date                 122 non-null    datetime64[ns]\n",
      " 1   Day                  122 non-null    int64         \n",
      " 2   Cases_Guinea         93 non-null     float64       \n",
      " 3   Cases_Liberia        83 non-null     float64       \n",
      " 4   Cases_SierraLeone    87 non-null     float64       \n",
      " 5   Cases_Nigeria        38 non-null     float64       \n",
      " 6   Cases_Senegal        25 non-null     float64       \n",
      " 7   Cases_UnitedStates   18 non-null     float64       \n",
      " 8   Cases_Spain          16 non-null     float64       \n",
      " 9   Cases_Mali           12 non-null     float64       \n",
      " 10  Deaths_Guinea        92 non-null     float64       \n",
      " 11  Deaths_Liberia       81 non-null     float64       \n",
      " 12  Deaths_SierraLeone   87 non-null     float64       \n",
      " 13  Deaths_Nigeria       38 non-null     float64       \n",
      " 14  Deaths_Senegal       22 non-null     float64       \n",
      " 15  Deaths_UnitedStates  18 non-null     float64       \n",
      " 16  Deaths_Spain         16 non-null     float64       \n",
      " 17  Deaths_Mali          12 non-null     float64       \n",
      "dtypes: datetime64[ns](1), float64(16), int64(1)\n",
      "memory usage: 17.3 KB\n",
      "None\n"
     ]
    }
   ],
   "source": [
    "ebola1 = pd.read_csv('C:/Users/이재윤/doit_pandas/data/country_timeseries.csv', parse_dates=['Date'])\n",
    "print(ebola1.info())"
   ]
  },
  {
   "cell_type": "markdown",
   "id": "entitled-regard",
   "metadata": {},
   "source": [
    "### datetimes 오브젝트에서 날짜 정보 추출하기\n",
    "\n",
    "\n",
    "datetime 오브젝트에는 년,월,일과 같은 날짜 정보를 따로 저장하고 있는 속성이 이미 준비되어 있다.\n",
    "\n",
    "\n",
    "\n",
    "- datetime 오브젝트에서 날짜 정보 추출하기\n",
    "\n",
    "\n",
    "\n",
    "1) 다음은 문자열로 저장된 날짜를 시리즈에 담아 datetime 오브젝트로 변환한 것이다.\n",
    "\n"
   ]
  },
  {
   "cell_type": "code",
   "execution_count": 21,
   "id": "expensive-arabic",
   "metadata": {},
   "outputs": [
    {
     "name": "stdout",
     "output_type": "stream",
     "text": [
      "0   2018-05-16\n",
      "1   2018-05-17\n",
      "2   2018-05-18\n",
      "dtype: datetime64[ns]\n"
     ]
    }
   ],
   "source": [
    "date_series = pd.Series(['2018-05-16', '2018-05-17', '2018-05-18'])\n",
    "d1 = pd.to_datetime(date_series)\n",
    "print(d1)"
   ]
  },
  {
   "cell_type": "markdown",
   "id": "heavy-neutral",
   "metadata": {},
   "source": [
    "2) datetime 오브젝트(d1)의 year,month,day 속성을 이용하면 년,월,일 정보를 바로 추출할 수 있다."
   ]
  },
  {
   "cell_type": "code",
   "execution_count": 22,
   "id": "prompt-expansion",
   "metadata": {},
   "outputs": [
    {
     "name": "stdout",
     "output_type": "stream",
     "text": [
      "2018\n",
      "5\n",
      "16\n"
     ]
    }
   ],
   "source": [
    "print(d1[0].year)\n",
    "\n",
    "print(d1[0].month)\n",
    "\n",
    "print(d1[0].day)"
   ]
  },
  {
   "cell_type": "markdown",
   "id": "welsh-democracy",
   "metadata": {},
   "source": [
    "### dt 접근자 사용하기\n",
    "\n",
    "\n",
    "\n",
    "문자열을 처리하려면 str 접근자를 사용한 다음 문자열 속성이나 메서드를 사용해야 했다. datetime 오브젝트로 마찬가지로 dt 접근자를 사용하면 datetime 속성이나 메서드를 사용하여 시계열 데이터를 처리할 수 있다.\n",
    "\n",
    "\n",
    "- dt 접근자로 시계열 데이터 정리하기\n",
    "\n",
    "1) 먼저 ebola 데이터 집합을 불러온 다음 Date 열을 datetime 오브젝트로 변환하여 새로운 열로 추가한다."
   ]
  },
  {
   "cell_type": "code",
   "execution_count": 26,
   "id": "homeless-colonial",
   "metadata": {},
   "outputs": [],
   "source": [
    "ebola = pd.read_csv('C:/Users/이재윤/doit_pandas/data/country_timeseries.csv')\n",
    "ebola['date_dt'] = pd.to_datetime(ebola['Date'])"
   ]
  },
  {
   "cell_type": "markdown",
   "id": "manufactured-mortgage",
   "metadata": {},
   "source": [
    "2) 다음은 dt 접근자를 사용하지 않고 인덱스가 3인 데이터의 년,월,일 데이터를 추출한 것이다."
   ]
  },
  {
   "cell_type": "code",
   "execution_count": 27,
   "id": "frank-hebrew",
   "metadata": {},
   "outputs": [
    {
     "name": "stdout",
     "output_type": "stream",
     "text": [
      "         Date    date_dt\n",
      "0    1/5/2015 2015-01-05\n",
      "1    1/4/2015 2015-01-04\n",
      "2    1/3/2015 2015-01-03\n",
      "3    1/2/2015 2015-01-02\n",
      "4  12/31/2014 2014-12-31\n",
      "2015\n",
      "1\n",
      "2\n"
     ]
    }
   ],
   "source": [
    "print(ebola[['Date', 'date_dt']].head())\n",
    "\n",
    "\n",
    "print(ebola['date_dt'][3].year)\n",
    "\n",
    "\n",
    "print(ebola['date_dt'][3].month)\n",
    "\n",
    "\n",
    "print(ebola['date_dt'][3].day)\n",
    "\n"
   ]
  },
  {
   "cell_type": "markdown",
   "id": "residential-basement",
   "metadata": {},
   "source": [
    "3) 과정 2와 같은 방법은 date_dt열의 특정 데이터를 인덱스로 접근해야 하기 때문에 불편하다. 다음은 dt 접근자로 date_dt 열에 한 번에 접근한 다음 year 속성을 이용하여 연도값을 추출할 것이다. 추출한 연도값은 ebola 데이터프레임의 새로운 열로 추가했다."
   ]
  },
  {
   "cell_type": "code",
   "execution_count": 28,
   "id": "civil-lesson",
   "metadata": {},
   "outputs": [
    {
     "name": "stdout",
     "output_type": "stream",
     "text": [
      "         Date    date_dt  year\n",
      "0    1/5/2015 2015-01-05  2015\n",
      "1    1/4/2015 2015-01-04  2015\n",
      "2    1/3/2015 2015-01-03  2015\n",
      "3    1/2/2015 2015-01-02  2015\n",
      "4  12/31/2014 2014-12-31  2014\n"
     ]
    }
   ],
   "source": [
    "ebola['year'] = ebola['date_dt'].dt.year\n",
    "print(ebola[['Date', 'date_dt', 'year']].head())"
   ]
  },
  {
   "cell_type": "markdown",
   "id": "metropolitan-symphony",
   "metadata": {},
   "source": [
    "4) 다음은 과정 3을 응용하여 월,일 데이터를 한 번에 추출해서 새로운 열로 추가한 것이다."
   ]
  },
  {
   "cell_type": "code",
   "execution_count": 29,
   "id": "different-traveler",
   "metadata": {},
   "outputs": [
    {
     "name": "stdout",
     "output_type": "stream",
     "text": [
      "         Date    date_dt  year  month  day\n",
      "0    1/5/2015 2015-01-05  2015      1    5\n",
      "1    1/4/2015 2015-01-04  2015      1    4\n",
      "2    1/3/2015 2015-01-03  2015      1    3\n",
      "3    1/2/2015 2015-01-02  2015      1    2\n",
      "4  12/31/2014 2014-12-31  2014     12   31\n"
     ]
    }
   ],
   "source": [
    "ebola['month'], ebola['day'] = (ebola['date_dt'].dt.month, ebola['date_dt'].dt.day)\n",
    "\n",
    "print(ebola[['Date', 'date_dt', 'year', 'month', 'day']].head())"
   ]
  },
  {
   "cell_type": "markdown",
   "id": "entire-density",
   "metadata": {},
   "source": [
    "5) 다음은 ebola 데이터프레임에 새로 추가한 date_dt, year,month,day 열의 자료형을 출력한 것이다. date_dt 열은 datetime 오브젝트이고 나머지는 정수형이라는 것을 알 수 있다."
   ]
  },
  {
   "cell_type": "code",
   "execution_count": 30,
   "id": "subtle-headquarters",
   "metadata": {},
   "outputs": [
    {
     "name": "stdout",
     "output_type": "stream",
     "text": [
      "<class 'pandas.core.frame.DataFrame'>\n",
      "RangeIndex: 122 entries, 0 to 121\n",
      "Data columns (total 22 columns):\n",
      " #   Column               Non-Null Count  Dtype         \n",
      "---  ------               --------------  -----         \n",
      " 0   Date                 122 non-null    object        \n",
      " 1   Day                  122 non-null    int64         \n",
      " 2   Cases_Guinea         93 non-null     float64       \n",
      " 3   Cases_Liberia        83 non-null     float64       \n",
      " 4   Cases_SierraLeone    87 non-null     float64       \n",
      " 5   Cases_Nigeria        38 non-null     float64       \n",
      " 6   Cases_Senegal        25 non-null     float64       \n",
      " 7   Cases_UnitedStates   18 non-null     float64       \n",
      " 8   Cases_Spain          16 non-null     float64       \n",
      " 9   Cases_Mali           12 non-null     float64       \n",
      " 10  Deaths_Guinea        92 non-null     float64       \n",
      " 11  Deaths_Liberia       81 non-null     float64       \n",
      " 12  Deaths_SierraLeone   87 non-null     float64       \n",
      " 13  Deaths_Nigeria       38 non-null     float64       \n",
      " 14  Deaths_Senegal       22 non-null     float64       \n",
      " 15  Deaths_UnitedStates  18 non-null     float64       \n",
      " 16  Deaths_Spain         16 non-null     float64       \n",
      " 17  Deaths_Mali          12 non-null     float64       \n",
      " 18  date_dt              122 non-null    datetime64[ns]\n",
      " 19  year                 122 non-null    int64         \n",
      " 20  month                122 non-null    int64         \n",
      " 21  day                  122 non-null    int64         \n",
      "dtypes: datetime64[ns](1), float64(16), int64(4), object(1)\n",
      "memory usage: 21.1+ KB\n",
      "None\n"
     ]
    }
   ],
   "source": [
    "print(ebola.info())"
   ]
  },
  {
   "cell_type": "code",
   "execution_count": null,
   "id": "forty-correspondence",
   "metadata": {},
   "outputs": [],
   "source": []
  }
 ],
 "metadata": {
  "kernelspec": {
   "display_name": "Python 3",
   "language": "python",
   "name": "python3"
  },
  "language_info": {
   "codemirror_mode": {
    "name": "ipython",
    "version": 3
   },
   "file_extension": ".py",
   "mimetype": "text/x-python",
   "name": "python",
   "nbconvert_exporter": "python",
   "pygments_lexer": "ipython3",
   "version": "3.9.2"
  }
 },
 "nbformat": 4,
 "nbformat_minor": 5
}
