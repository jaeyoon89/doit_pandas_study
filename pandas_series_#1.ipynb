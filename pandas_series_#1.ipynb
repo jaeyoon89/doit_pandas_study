{
 "cells": [
  {
   "cell_type": "markdown",
   "id": "serious-fourth",
   "metadata": {},
   "source": [
    "# 나만의 데이터 만들기"
   ]
  },
  {
   "cell_type": "code",
   "execution_count": 1,
   "id": "committed-royalty",
   "metadata": {},
   "outputs": [
    {
     "name": "stdout",
     "output_type": "stream",
     "text": [
      "0    banana\n",
      "1        42\n",
      "dtype: object\n"
     ]
    }
   ],
   "source": [
    "import pandas as pd\n",
    "s = pd.Series(['banana',42])\n",
    "print(s)"
   ]
  },
  {
   "cell_type": "code",
   "execution_count": null,
   "id": "adequate-shopping",
   "metadata": {},
   "outputs": [],
   "source": []
  }
 ],
 "metadata": {
  "kernelspec": {
   "display_name": "Python 3",
   "language": "python",
   "name": "python3"
  },
  "language_info": {
   "codemirror_mode": {
    "name": "ipython",
    "version": 3
   },
   "file_extension": ".py",
   "mimetype": "text/x-python",
   "name": "python",
   "nbconvert_exporter": "python",
   "pygments_lexer": "ipython3",
   "version": "3.9.2"
  }
 },
 "nbformat": 4,
 "nbformat_minor": 5
}
