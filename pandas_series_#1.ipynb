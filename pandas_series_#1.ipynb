{
 "cells": [
  {
   "cell_type": "markdown",
   "id": "fossil-concern",
   "metadata": {},
   "source": [
    "# 나만의 데이터 만들기"
   ]
  },
  {
   "cell_type": "markdown",
   "id": "immediate-proof",
   "metadata": {},
   "source": [
    "- Series 만들기\n",
    "- 데이터프레임 만들기"
   ]
  },
  {
   "cell_type": "markdown",
   "id": "ceramic-active",
   "metadata": {},
   "source": [
    "# 1. 시리즈 만들기"
   ]
  },
  {
   "cell_type": "code",
   "execution_count": 1,
   "id": "incredible-mongolia",
   "metadata": {},
   "outputs": [
    {
     "name": "stdout",
     "output_type": "stream",
     "text": [
      "0    banana\n",
      "1        42\n",
      "dtype: object\n"
     ]
    }
   ],
   "source": [
    "import pandas as pd\n",
    "s = pd.Series(['banana',42])\n",
    "print(s)"
   ]
  },
  {
   "cell_type": "code",
   "execution_count": 2,
   "id": "filled-shelf",
   "metadata": {},
   "outputs": [
    {
     "name": "stdout",
     "output_type": "stream",
     "text": [
      "0         Wes McKinney\n",
      "1    Creator of Pandas\n",
      "dtype: object\n"
     ]
    }
   ],
   "source": [
    "s = pd.Series(['Wes McKinney', 'Creator of Pandas'])\n",
    "print(s)"
   ]
  },
  {
   "cell_type": "code",
   "execution_count": 4,
   "id": "primary-tournament",
   "metadata": {},
   "outputs": [
    {
     "name": "stdout",
     "output_type": "stream",
     "text": [
      "Person         Wes McKinney\n",
      "Who       Creator of Pandas\n",
      "dtype: object\n"
     ]
    }
   ],
   "source": [
    "s = pd.Series(['Wes McKinney', 'Creator of Pandas'], index=['Person', 'Who'])\n",
    "print(s)\n"
   ]
  },
  {
   "cell_type": "markdown",
   "id": "controlled-baghdad",
   "metadata": {},
   "source": [
    "# 2. 데이터 프레임 만들기"
   ]
  },
  {
   "cell_type": "code",
   "execution_count": 5,
   "id": "coordinate-method",
   "metadata": {},
   "outputs": [
    {
     "name": "stdout",
     "output_type": "stream",
     "text": [
      "                Name    Occupation        Born        Died  Age\n",
      "0  Rosaline Franklin       Chemist  1920-07-25  1958-04-16   37\n",
      "1     William Gosset  Statistician  1876-06-13  1937-10-16   61\n"
     ]
    }
   ],
   "source": [
    "scientists = pd.DataFrame({\n",
    "    'Name': ['Rosaline Franklin', 'William Gosset'],\n",
    "    'Occupation': ['Chemist', 'Statistician'],\n",
    "    'Born': ['1920-07-25', '1876-06-13'],\n",
    "    'Died': ['1958-04-16', '1937-10-16' ],\n",
    "    'Age': [37,61]}\n",
    ")\n",
    "print(scientists)"
   ]
  },
  {
   "cell_type": "code",
   "execution_count": 11,
   "id": "interstate-romantic",
   "metadata": {},
   "outputs": [
    {
     "name": "stdout",
     "output_type": "stream",
     "text": [
      "                     Occupation        Born  Age        Died\n",
      "Rosaline Franklin       Chemist  1920-07-25   37  1958-04-16\n",
      "William Gosset     Statistician  1876-06-13   61  1937-10-16\n"
     ]
    }
   ],
   "source": [
    "scientists = pd.DataFrame(\n",
    "    data={'Occupation': ['Chemist', 'Statistician'],\n",
    "          'Born':['1920-07-25', '1876-06-13'],\n",
    "          'Died':['1958-04-16', '1937-10-16'],\n",
    "          'Age':[37,61]},\n",
    "    index = ['Rosaline Franklin', 'William Gosset'],\n",
    "    columns = ['Occupation', 'Born', 'Age', 'Died']\n",
    ")\n",
    "print(scientists)"
   ]
  },
  {
   "cell_type": "markdown",
   "id": "confident-seeking",
   "metadata": {},
   "source": [
    "# OrderedDict (데이터들의 순서 보장)"
   ]
  },
  {
   "cell_type": "code",
   "execution_count": 16,
   "id": "great-failure",
   "metadata": {},
   "outputs": [
    {
     "name": "stdout",
     "output_type": "stream",
     "text": [
      "                Name    Occupation        Born        Died  Age\n",
      "0  Rosaline Franklin       Chemist  1920-07-25  1958-04-16   37\n",
      "1     William Gosset  Statistician  1876-06-13  1937-10-16   61\n"
     ]
    }
   ],
   "source": [
    "from collections import OrderedDict\n",
    "\n",
    "scientists = pd.DataFrame(OrderedDict([\n",
    "    ('Name',['Rosaline Franklin', 'William Gosset']),\n",
    "    ('Occupation', ['Chemist', 'Statistician']),\n",
    "    ('Born', ['1920-07-25', '1876-06-13']),\n",
    "    ('Died', ['1958-04-16', '1937-10-16' ]),\n",
    "    ('Age', [37,61])\n",
    "])\n",
    "                         )\n",
    "print(scientists)\n",
    "    "
   ]
  },
  {
   "cell_type": "markdown",
   "id": "considered-insulin",
   "metadata": {},
   "source": [
    "# 데이터 프레임에서 시리즈 선택하기"
   ]
  },
  {
   "cell_type": "code",
   "execution_count": 18,
   "id": "occasional-cleanup",
   "metadata": {},
   "outputs": [],
   "source": [
    "scientists = pd.DataFrame(\n",
    "    data={'Occupation': ['Chemist', 'Statistician'],\n",
    "          'Born':['1920-07-25', '1876-06-13'],\n",
    "          'Died':['1958-04-16', '1937-10-16'],\n",
    "          'Age':[37,61]},\n",
    "    index = ['Rosaline Franklin', 'William Gosset'],\n",
    "    columns = ['Occupation', 'Born', 'Age', 'Died'])"
   ]
  },
  {
   "cell_type": "code",
   "execution_count": 22,
   "id": "center-class",
   "metadata": {},
   "outputs": [
    {
     "name": "stdout",
     "output_type": "stream",
     "text": [
      "<class 'pandas.core.series.Series'>\n"
     ]
    }
   ],
   "source": [
    "first_row = scientists.loc['William Gosset']\n",
    "print(type(first_row))"
   ]
  },
  {
   "cell_type": "code",
   "execution_count": 23,
   "id": "elder-telescope",
   "metadata": {},
   "outputs": [
    {
     "name": "stdout",
     "output_type": "stream",
     "text": [
      "Occupation    Statistician\n",
      "Born            1876-06-13\n",
      "Age                     61\n",
      "Died            1937-10-16\n",
      "Name: William Gosset, dtype: object\n"
     ]
    }
   ],
   "source": [
    "print(first_row)"
   ]
  },
  {
   "cell_type": "markdown",
   "id": "american-copyright",
   "metadata": {},
   "source": [
    "# 시리즈 속성과 메서드 사용하기 index,values,keys"
   ]
  },
  {
   "cell_type": "code",
   "execution_count": 24,
   "id": "speaking-punch",
   "metadata": {},
   "outputs": [
    {
     "name": "stdout",
     "output_type": "stream",
     "text": [
      "Index(['Occupation', 'Born', 'Age', 'Died'], dtype='object')\n"
     ]
    }
   ],
   "source": [
    "print(first_row.index)"
   ]
  },
  {
   "cell_type": "code",
   "execution_count": 25,
   "id": "vietnamese-going",
   "metadata": {},
   "outputs": [
    {
     "name": "stdout",
     "output_type": "stream",
     "text": [
      "['Statistician' '1876-06-13' 61 '1937-10-16']\n"
     ]
    }
   ],
   "source": [
    "print(first_row.values)"
   ]
  },
  {
   "cell_type": "code",
   "execution_count": 27,
   "id": "relevant-column",
   "metadata": {},
   "outputs": [
    {
     "name": "stdout",
     "output_type": "stream",
     "text": [
      "Index(['Occupation', 'Born', 'Age', 'Died'], dtype='object')\n"
     ]
    }
   ],
   "source": [
    "print(first_row.keys())"
   ]
  },
  {
   "cell_type": "code",
   "execution_count": 29,
   "id": "steady-consistency",
   "metadata": {},
   "outputs": [
    {
     "name": "stdout",
     "output_type": "stream",
     "text": [
      "Occupation\n"
     ]
    }
   ],
   "source": [
    "print(first_row.index[0])"
   ]
  },
  {
   "cell_type": "code",
   "execution_count": 30,
   "id": "french-insert",
   "metadata": {},
   "outputs": [
    {
     "name": "stdout",
     "output_type": "stream",
     "text": [
      "Occupation\n"
     ]
    }
   ],
   "source": [
    "print(first_row.keys()[0])"
   ]
  },
  {
   "cell_type": "markdown",
   "id": "contrary-purple",
   "metadata": {},
   "source": [
    "# mean,min,max,std 메서드 사용하기"
   ]
  },
  {
   "cell_type": "code",
   "execution_count": 31,
   "id": "confident-poker",
   "metadata": {},
   "outputs": [
    {
     "name": "stdout",
     "output_type": "stream",
     "text": [
      "Rosaline Franklin    37\n",
      "William Gosset       61\n",
      "Name: Age, dtype: int64\n"
     ]
    }
   ],
   "source": [
    "ages = scientists['Age']\n",
    "print(ages)"
   ]
  },
  {
   "cell_type": "code",
   "execution_count": 32,
   "id": "built-thursday",
   "metadata": {},
   "outputs": [
    {
     "name": "stdout",
     "output_type": "stream",
     "text": [
      "49.0\n"
     ]
    }
   ],
   "source": [
    "print(ages.mean())"
   ]
  },
  {
   "cell_type": "code",
   "execution_count": 33,
   "id": "controlled-consultancy",
   "metadata": {},
   "outputs": [
    {
     "name": "stdout",
     "output_type": "stream",
     "text": [
      "37\n"
     ]
    }
   ],
   "source": [
    "print(ages.min())"
   ]
  },
  {
   "cell_type": "code",
   "execution_count": 34,
   "id": "specified-symphony",
   "metadata": {},
   "outputs": [
    {
     "name": "stdout",
     "output_type": "stream",
     "text": [
      "61\n"
     ]
    }
   ],
   "source": [
    "print(ages.max())"
   ]
  },
  {
   "cell_type": "code",
   "execution_count": 35,
   "id": "sustained-courage",
   "metadata": {},
   "outputs": [
    {
     "name": "stdout",
     "output_type": "stream",
     "text": [
      "16.97056274847714\n"
     ]
    }
   ],
   "source": [
    "print(ages.std())"
   ]
  },
  {
   "cell_type": "code",
   "execution_count": null,
   "id": "accessory-rough",
   "metadata": {},
   "outputs": [],
   "source": []
  }
 ],
 "metadata": {
  "kernelspec": {
   "display_name": "Python 3",
   "language": "python",
   "name": "python3"
  },
  "language_info": {
   "codemirror_mode": {
    "name": "ipython",
    "version": 3
   },
   "file_extension": ".py",
   "mimetype": "text/x-python",
   "name": "python",
   "nbconvert_exporter": "python",
   "pygments_lexer": "ipython3",
   "version": "3.9.2"
  }
 },
 "nbformat": 4,
 "nbformat_minor": 5
}
