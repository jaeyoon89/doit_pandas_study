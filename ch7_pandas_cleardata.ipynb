{
 "cells": [
  {
   "cell_type": "markdown",
   "id": "thorough-airplane",
   "metadata": {},
   "source": [
    "# 깔끔한 데이터\n",
    "\n",
    "\n",
    "## 열과 피벗\n",
    "\n",
    "\n",
    "### - 넓은 데이터\n",
    "\n",
    "\n",
    "데이터프레임의 열은 파이썬의 변수와 비슷한 역할을 한다. 예를들어 ebola 데이터 프레임 열은 사망한 날짜, 발병 국가 등의 데이터를 저장하고 있다. 하지만 이번에 다루는 데이터프레임의 열은 열 자체가 어떤 값을 의미한다. 그러다 보니 데이터프레임의 열이 옆으로 길게 늘어선 형태가 된다. 바로 이것을 넓은 데이터라고 한다. 밑에서 자주 사용할 melt 메서드에 대해 알아보자.\n",
    "\n",
    "#### - melt 메서드\n",
    "\n",
    "판다스는 데이터프레임을 깔끔한 데이터로 정리하는 데 유용한 melt 메서드를 제공한다.\n",
    "\n",
    "다음은 metl 메서드를 실습할 때 사용할 인자를 정리한 것이다.\n",
    "\n",
    "- melt 메서드 인자\n",
    "               \n",
    "\n",
    "- id_vars                - 위치를 그대로 유지할 열의 이름을 지정합니다.\n",
    "- value_vars             - 행으로 위치를 변경할 열의 이름을 지정합니다.\n",
    "- var_name               - value_vars로 위치를 변경한 열의 이름을 지정합니다.\n",
    "- value_name             - var_name으로 위치를 변경한 열의 데이터를 저장한 열의 이름을 지정합니다.\n",
    "\n",
    "\n",
    "-melt 메서드 사용하기\n",
    "\n",
    "1) 1개의 열만 고정하고 나머지 열을 행으로 바꾸기\n",
    "\n",
    "이번에 사용할 데이터 집합은 퓨 리서치 센터에서 조사한 '미국의 소득과 종교' 라는 데이터입니다. 이 데이터프레임은 총 11개의 열이 있다.\n"
   ]
  },
  {
   "cell_type": "code",
   "execution_count": 3,
   "id": "verbal-collectible",
   "metadata": {},
   "outputs": [
    {
     "name": "stdout",
     "output_type": "stream",
     "text": [
      "             religion  <$10k  $10-20k  $20-30k  $30-40k  $40-50k  $50-75k  \\\n",
      "0            Agnostic     27       34       60       81       76      137   \n",
      "1             Atheist     12       27       37       52       35       70   \n",
      "2            Buddhist     27       21       30       34       33       58   \n",
      "3            Catholic    418      617      732      670      638     1116   \n",
      "4  Don’t know/refused     15       14       15       11       10       35   \n",
      "\n",
      "   $75-100k  $100-150k  >150k  Don't know/refused  \n",
      "0       122        109     84                  96  \n",
      "1        73         59     74                  76  \n",
      "2        62         39     53                  54  \n",
      "3       949        792    633                1489  \n",
      "4        21         17     18                 116  \n"
     ]
    }
   ],
   "source": [
    "import pandas as pd\n",
    "pew = pd.read_csv('C:/users\\이재윤/downloads/doit_pandas-master/doit_pandas-master/data/pew.csv')\n",
    "print(pew.head())"
   ]
  },
  {
   "cell_type": "markdown",
   "id": "minute-malta",
   "metadata": {},
   "source": [
    "2) 6개의 열만 출력해 보자. 그러면 종교와 소득 정보가 출력됩니다. 하지만 이 상태는 소득 정보가 열을 구성하고 있다. 만약 소득 정보 열을 행 데이터로 옮기고 싶다면 어떻게 해야 할까?"
   ]
  },
  {
   "cell_type": "code",
   "execution_count": 4,
   "id": "fleet-growing",
   "metadata": {},
   "outputs": [
    {
     "name": "stdout",
     "output_type": "stream",
     "text": [
      "                   religion  <$10k  $10-20k  $20-30k  $30-40k  $40-50k\n",
      "0                  Agnostic     27       34       60       81       76\n",
      "1                   Atheist     12       27       37       52       35\n",
      "2                  Buddhist     27       21       30       34       33\n",
      "3                  Catholic    418      617      732      670      638\n",
      "4        Don’t know/refused     15       14       15       11       10\n",
      "5          Evangelical Prot    575      869     1064      982      881\n",
      "6                     Hindu      1        9        7        9       11\n",
      "7   Historically Black Prot    228      244      236      238      197\n",
      "8         Jehovah's Witness     20       27       24       24       21\n",
      "9                    Jewish     19       19       25       25       30\n",
      "10            Mainline Prot    289      495      619      655      651\n",
      "11                   Mormon     29       40       48       51       56\n",
      "12                   Muslim      6        7        9       10        9\n",
      "13                 Orthodox     13       17       23       32       32\n",
      "14          Other Christian      9        7       11       13       13\n",
      "15             Other Faiths     20       33       40       46       49\n",
      "16    Other World Religions      5        2        3        4        2\n",
      "17             Unaffiliated    217      299      374      365      341\n"
     ]
    }
   ],
   "source": [
    "print(pew.iloc[:, 0:6])"
   ]
  },
  {
   "cell_type": "markdown",
   "id": "authorized-registrar",
   "metadata": {},
   "source": [
    "3) 다음을 입력해보자. id_vars 인잣값으로 지정한 열(religion)을 제외한 나머지 소득 정보 열이 variable 열로 정리되고 소득 정보 열의 행 데이터도 value 열로 정리되었다.바로 이 과정을 'religion열을 고정하여 피벗했다' 라고 말한다."
   ]
  },
  {
   "cell_type": "code",
   "execution_count": 5,
   "id": "finished-weekend",
   "metadata": {},
   "outputs": [
    {
     "name": "stdout",
     "output_type": "stream",
     "text": [
      "             religion variable  value\n",
      "0            Agnostic    <$10k     27\n",
      "1             Atheist    <$10k     12\n",
      "2            Buddhist    <$10k     27\n",
      "3            Catholic    <$10k    418\n",
      "4  Don’t know/refused    <$10k     15\n"
     ]
    }
   ],
   "source": [
    "pew_long = pd.melt(pew, id_vars='religion')\n",
    "print(pew_long.head())"
   ]
  },
  {
   "cell_type": "markdown",
   "id": "meaningful-arena",
   "metadata": {},
   "source": [
    "4) 그러면 variable, value 열의 열 이름은 어떻게 바꿀까?  var_name, value_name 인잣값을 사용하면 된다. 다음을 따라해 보자."
   ]
  },
  {
   "cell_type": "code",
   "execution_count": 9,
   "id": "subtle-reporter",
   "metadata": {},
   "outputs": [
    {
     "name": "stdout",
     "output_type": "stream",
     "text": [
      "             religion income  count\n",
      "0            Agnostic  <$10k     27\n",
      "1             Atheist  <$10k     12\n",
      "2            Buddhist  <$10k     27\n",
      "3            Catholic  <$10k    418\n",
      "4  Don’t know/refused  <$10k     15\n"
     ]
    }
   ],
   "source": [
    "pew_long = pd.melt(pew, id_vars='religion', var_name='income', value_name='count')\n",
    "print(pew_long.head())"
   ]
  },
  {
   "cell_type": "markdown",
   "id": "destroyed-generic",
   "metadata": {},
   "source": [
    "5) 2개 이상의 열을 고정하고 나머지 열을 행으로 바꾸기\n",
    "\n",
    "이번에는 빌보드 차트 데이터를 사용하여 실습해 보자. 2개 이상의 열을 고정하고 나머지 열을 행으로 바꾸면 어떻게 될까? 다음을 실습해 보며 빌보다 차트 데이터프레임이 어떻게 구성되어 있는지 확인해 보자."
   ]
  },
  {
   "cell_type": "code",
   "execution_count": 12,
   "id": "tutorial-exposure",
   "metadata": {},
   "outputs": [
    {
     "name": "stdout",
     "output_type": "stream",
     "text": [
      "   year        artist                    track  time date.entered  wk1   wk2  \\\n",
      "0  2000         2 Pac  Baby Don't Cry (Keep...  4:22   2000-02-26   87  82.0   \n",
      "1  2000       2Ge+her  The Hardest Part Of ...  3:15   2000-09-02   91  87.0   \n",
      "2  2000  3 Doors Down               Kryptonite  3:53   2000-04-08   81  70.0   \n",
      "3  2000  3 Doors Down                    Loser  4:24   2000-10-21   76  76.0   \n",
      "4  2000      504 Boyz            Wobble Wobble  3:35   2000-04-15   57  34.0   \n",
      "\n",
      "    wk3   wk4   wk5   wk6   wk7   wk8   wk9  wk10  wk11  \n",
      "0  72.0  77.0  87.0  94.0  99.0   NaN   NaN   NaN   NaN  \n",
      "1  92.0   NaN   NaN   NaN   NaN   NaN   NaN   NaN   NaN  \n",
      "2  68.0  67.0  66.0  57.0  54.0  53.0  51.0  51.0  51.0  \n",
      "3  72.0  69.0  67.0  65.0  55.0  59.0  62.0  61.0  61.0  \n",
      "4  25.0  17.0  17.0  31.0  36.0  49.0  53.0  57.0  64.0  \n"
     ]
    }
   ],
   "source": [
    "billboard = pd.read_csv('C:/users\\이재윤/downloads/doit_pandas-master/doit_pandas-master/data/billboard.csv')\n",
    "print(billboard.iloc[0:5, 0:16])"
   ]
  },
  {
   "cell_type": "markdown",
   "id": "orange-efficiency",
   "metadata": {},
   "source": [
    "6) 다음은 year,artist,track,time,date.entered 열을 모두 고정하고 나머지 열을 피벗한 것이다."
   ]
  },
  {
   "cell_type": "code",
   "execution_count": 15,
   "id": "cloudy-yemen",
   "metadata": {},
   "outputs": [
    {
     "name": "stdout",
     "output_type": "stream",
     "text": [
      "   year        artist                    track  time date.entered week  rating\n",
      "0  2000         2 Pac  Baby Don't Cry (Keep...  4:22   2000-02-26  wk1    87.0\n",
      "1  2000       2Ge+her  The Hardest Part Of ...  3:15   2000-09-02  wk1    91.0\n",
      "2  2000  3 Doors Down               Kryptonite  3:53   2000-04-08  wk1    81.0\n",
      "3  2000  3 Doors Down                    Loser  4:24   2000-10-21  wk1    76.0\n",
      "4  2000      504 Boyz            Wobble Wobble  3:35   2000-04-15  wk1    57.0\n"
     ]
    }
   ],
   "source": [
    "billboard_long = pd.melt(billboard, id_vars=['year', 'artist', 'track', 'time',\n",
    "'date.entered'], var_name='week', value_name='rating')\n",
    "print(billboard_long.head())"
   ]
  },
  {
   "cell_type": "markdown",
   "id": "traditional-dubai",
   "metadata": {},
   "source": [
    "## 열 이름 관리하기\n",
    "\n",
    "### - 하나의 열이 여러 의미를 가지고 있는 경우\n",
    "\n",
    "어떤 열은 여러가지 의미를 가지고 있을 수 있다. 예를 들어 ebola 데이터 집합의 열 중 하나인 Deaths_Guina는 '사망자 수'와 '나라 이름'을 합쳐 만든 이름이다. 그러면 ebola 데이터 집합을 살펴보면서 하나의 열이 여러 가지 의미를 가지고 있다는 것이 무엇인지 구체적으로 알아보자.\n",
    "\n",
    "- ebola 데이터 집합 살펴보기\n",
    "\n",
    "1) 다음은 ebola 데이터를 불러온 다음 0,1,2,3,10,11열의 5개 데이터만 확인한 것입니다."
   ]
  },
  {
   "cell_type": "code",
   "execution_count": 17,
   "id": "rocky-romania",
   "metadata": {},
   "outputs": [
    {
     "name": "stdout",
     "output_type": "stream",
     "text": [
      "Index(['Date', 'Day', 'Cases_Guinea', 'Cases_Liberia', 'Cases_SierraLeone',\n",
      "       'Cases_Nigeria', 'Cases_Senegal', 'Cases_UnitedStates', 'Cases_Spain',\n",
      "       'Cases_Mali', 'Deaths_Guinea', 'Deaths_Liberia', 'Deaths_SierraLeone',\n",
      "       'Deaths_Nigeria', 'Deaths_Senegal', 'Deaths_UnitedStates',\n",
      "       'Deaths_Spain', 'Deaths_Mali'],\n",
      "      dtype='object')\n"
     ]
    }
   ],
   "source": [
    "ebola = pd.read_csv('C:/users\\이재윤/downloads/doit_pandas-master/doit_pandas-master/data/country_timeseries.csv')\n",
    "print(ebola.columns)"
   ]
  },
  {
   "cell_type": "code",
   "execution_count": 18,
   "id": "naughty-reasoning",
   "metadata": {},
   "outputs": [
    {
     "name": "stdout",
     "output_type": "stream",
     "text": [
      "         Date  Day  Cases_Guinea  Cases_Liberia  Deaths_Guinea  Deaths_Liberia\n",
      "0    1/5/2015  289        2776.0            NaN         1786.0             NaN\n",
      "1    1/4/2015  288        2775.0            NaN         1781.0             NaN\n",
      "2    1/3/2015  287        2769.0         8166.0         1767.0          3496.0\n",
      "3    1/2/2015  286           NaN         8157.0            NaN          3496.0\n",
      "4  12/31/2014  284        2730.0         8115.0         1739.0          3471.0\n"
     ]
    }
   ],
   "source": [
    "print(ebola.iloc[:5, [0,1,2,3,10,11]])"
   ]
  },
  {
   "cell_type": "markdown",
   "id": "appointed-handy",
   "metadata": {},
   "source": [
    "2) 일단 Date와 Day를 고정하고 나머지를 행으로 피벗하자. 그러면 각 나라별 사망자 수를 행으로 볼 수 있어 편리하다."
   ]
  },
  {
   "cell_type": "code",
   "execution_count": 20,
   "id": "progressive-project",
   "metadata": {},
   "outputs": [
    {
     "name": "stdout",
     "output_type": "stream",
     "text": [
      "         Date  Day      variable   value\n",
      "0    1/5/2015  289  Cases_Guinea  2776.0\n",
      "1    1/4/2015  288  Cases_Guinea  2775.0\n",
      "2    1/3/2015  287  Cases_Guinea  2769.0\n",
      "3    1/2/2015  286  Cases_Guinea     NaN\n",
      "4  12/31/2014  284  Cases_Guinea  2730.0\n"
     ]
    }
   ],
   "source": [
    "ebola_long = pd.melt(ebola, id_vars=['Date','Day'])\n",
    "print(ebola_long.head())"
   ]
  },
  {
   "cell_type": "markdown",
   "id": "removable-reduction",
   "metadata": {},
   "source": [
    "### - split 메서드로 열 이름 분리하기\n",
    "\n",
    "\n",
    "Cases_Guinea와 같이 2개의 의미를 가지고 있는 열 이름은 밑줄( _ ) 을 기준으로  Cases, Guinea 와 같은 방법으로 분리할 수 있다. 이때 열 이름을 분리하려면 split 메서드를 사용하면 된다. split 메서드는 기본적으로 공백을 기준으로 문자열을 자른다.\n",
    "\n",
    "-열 이름 분리하고 데이터프레임에 추가하기\n",
    "\n",
    "1) split 메서드에 ' _ '를 전달하면 Cases_Guinea를 Cases,Guinea로 분리할 수 있다."
   ]
  },
  {
   "cell_type": "code",
   "execution_count": 21,
   "id": "efficient-biography",
   "metadata": {},
   "outputs": [
    {
     "name": "stdout",
     "output_type": "stream",
     "text": [
      "0    [Cases, Guinea]\n",
      "1    [Cases, Guinea]\n",
      "2    [Cases, Guinea]\n",
      "3    [Cases, Guinea]\n",
      "4    [Cases, Guinea]\n",
      "Name: variable, dtype: object\n"
     ]
    }
   ],
   "source": [
    "variable_split = ebola_long.variable.str.split('_')\n",
    "print(variable_split[:5])"
   ]
  },
  {
   "cell_type": "markdown",
   "id": "nominated-intermediate",
   "metadata": {},
   "source": [
    "2) 이때 variable_split에 저장된 값의 자료형은 시리즈이고 각각의 시리즈에 저장된 값의 자료형은 리스트이다."
   ]
  },
  {
   "cell_type": "code",
   "execution_count": 22,
   "id": "norman-herald",
   "metadata": {},
   "outputs": [
    {
     "name": "stdout",
     "output_type": "stream",
     "text": [
      "<class 'pandas.core.series.Series'>\n"
     ]
    }
   ],
   "source": [
    "print(type(variable_split))"
   ]
  },
  {
   "cell_type": "code",
   "execution_count": 24,
   "id": "advisory-money",
   "metadata": {},
   "outputs": [
    {
     "name": "stdout",
     "output_type": "stream",
     "text": [
      "<class 'list'>\n"
     ]
    }
   ],
   "source": [
    "print(type(variable_split[0]))"
   ]
  },
  {
   "cell_type": "markdown",
   "id": "czech-album",
   "metadata": {},
   "source": [
    "3) 과정 1에서 구한 리스트의 0번째 인덱스에 담긴 문자열은 Cases와 Deaths 같은 상태를 의미하고 1번째 인덱스에 담긴 문자열은 나라 이름을 의미한다. 이제 이 문자열을 분리하여 데이터프레임의 새로운 열로 추가해보자. 다음은 get 메서드를 사용하여 0, 1번째 인덱스의 데이터를 한 번에 추출한 것이다."
   ]
  },
  {
   "cell_type": "code",
   "execution_count": 27,
   "id": "loose-dover",
   "metadata": {},
   "outputs": [
    {
     "name": "stdout",
     "output_type": "stream",
     "text": [
      "0    Cases\n",
      "1    Cases\n",
      "2    Cases\n",
      "3    Cases\n",
      "4    Cases\n",
      "Name: variable, dtype: object\n"
     ]
    }
   ],
   "source": [
    "status_values = variable_split.str.get(0)\n",
    "country_values = variable_split.str.get(1)\n",
    "\n",
    "print(status_values[:5])"
   ]
  },
  {
   "cell_type": "code",
   "execution_count": 29,
   "id": "middle-modern",
   "metadata": {},
   "outputs": [
    {
     "name": "stdout",
     "output_type": "stream",
     "text": [
      "1947    Deaths\n",
      "1948    Deaths\n",
      "1949    Deaths\n",
      "1950    Deaths\n",
      "1951    Deaths\n",
      "Name: variable, dtype: object\n"
     ]
    }
   ],
   "source": [
    "print(status_values[-5:])"
   ]
  },
  {
   "cell_type": "code",
   "execution_count": 30,
   "id": "radio-omaha",
   "metadata": {},
   "outputs": [
    {
     "name": "stdout",
     "output_type": "stream",
     "text": [
      "0    Guinea\n",
      "1    Guinea\n",
      "2    Guinea\n",
      "3    Guinea\n",
      "4    Guinea\n",
      "Name: variable, dtype: object\n"
     ]
    }
   ],
   "source": [
    "print(country_values[:5])"
   ]
  },
  {
   "cell_type": "code",
   "execution_count": 31,
   "id": "broad-cattle",
   "metadata": {},
   "outputs": [
    {
     "name": "stdout",
     "output_type": "stream",
     "text": [
      "1947    Mali\n",
      "1948    Mali\n",
      "1949    Mali\n",
      "1950    Mali\n",
      "1951    Mali\n",
      "Name: variable, dtype: object\n"
     ]
    }
   ],
   "source": [
    "print(country_values[-5:])"
   ]
  },
  {
   "cell_type": "markdown",
   "id": "following-collins",
   "metadata": {},
   "source": [
    "4) 다음은 과정 3에서 분리한 문자열을 status, country라는 열 이름으로 데이터프레임에 추가한 코드이다."
   ]
  },
  {
   "cell_type": "code",
   "execution_count": 32,
   "id": "welcome-prince",
   "metadata": {},
   "outputs": [
    {
     "name": "stdout",
     "output_type": "stream",
     "text": [
      "         Date  Day      variable   value status country\n",
      "0    1/5/2015  289  Cases_Guinea  2776.0  Cases  Guinea\n",
      "1    1/4/2015  288  Cases_Guinea  2775.0  Cases  Guinea\n",
      "2    1/3/2015  287  Cases_Guinea  2769.0  Cases  Guinea\n",
      "3    1/2/2015  286  Cases_Guinea     NaN  Cases  Guinea\n",
      "4  12/31/2014  284  Cases_Guinea  2730.0  Cases  Guinea\n"
     ]
    }
   ],
   "source": [
    "ebola_long['status'] = status_values\n",
    "ebola_long['country'] = country_values\n",
    "print(ebola_long.head())"
   ]
  },
  {
   "cell_type": "markdown",
   "id": "arbitrary-basics",
   "metadata": {},
   "source": [
    "#### - 알아두면 좋아요!\n",
    "\n",
    "- concat 메서드로 데이터프레임에 열 추가하기\n",
    "\n",
    "concat 메서드를 활용하면 split 메서드로 분리한 데이터를 바로 데이터프레임에 추가할 수도 있다. "
   ]
  },
  {
   "cell_type": "code",
   "execution_count": 33,
   "id": "sensitive-terrorism",
   "metadata": {},
   "outputs": [
    {
     "name": "stdout",
     "output_type": "stream",
     "text": [
      "         Date  Day      variable   value status country      0       1\n",
      "0    1/5/2015  289  Cases_Guinea  2776.0  Cases  Guinea  Cases  Guinea\n",
      "1    1/4/2015  288  Cases_Guinea  2775.0  Cases  Guinea  Cases  Guinea\n",
      "2    1/3/2015  287  Cases_Guinea  2769.0  Cases  Guinea  Cases  Guinea\n",
      "3    1/2/2015  286  Cases_Guinea     NaN  Cases  Guinea  Cases  Guinea\n",
      "4  12/31/2014  284  Cases_Guinea  2730.0  Cases  Guinea  Cases  Guinea\n"
     ]
    },
    {
     "name": "stderr",
     "output_type": "stream",
     "text": [
      "<ipython-input-33-665a56c8d452>:2: UserWarning: Pandas doesn't allow columns to be created via a new attribute name - see https://pandas.pydata.org/pandas-docs/stable/indexing.html#attribute-access\n",
      "  variable_split.colums = ['status', 'country']\n"
     ]
    }
   ],
   "source": [
    "variable_split = ebola_long.variable.str.split('_', expand=True)\n",
    "variable_split.colums = ['status', 'country']\n",
    "ebola_parsed = pd.concat([ebola_long, variable_split], axis=1)\n",
    "\n",
    "print(ebola_parsed.head())"
   ]
  },
  {
   "cell_type": "markdown",
   "id": "unique-script",
   "metadata": {},
   "source": [
    "## 여러 열을 하나로 정리하기\n",
    "\n",
    "보통 데이터 프레임의 열은 파이썬의 변수와 같은 개념으로 사용한다. 하지만 비슷한 성질의 데이터를 관리하기 위해 열이 여러개로 분리되어 있는 경우도 있다.\n",
    "\n",
    "- 기상 데이터의 여러 열을 하나로 정리하기 -- melt, pivot, table 메서드\n",
    "\n",
    "1) 다음은 기상 데이터를 불러와 출력한 것이다. 날짜 열에는 각 월별로 최고, 최저 온도 데이터가 저장되어 있습니다. 아래를 보면 날짜 열이 옆으로 길게 늘어져 있어 보기 불편하다. 먼저 날짜 열을 행 데이터로 피벗해 보자."
   ]
  },
  {
   "cell_type": "code",
   "execution_count": 34,
   "id": "military-funeral",
   "metadata": {},
   "outputs": [
    {
     "name": "stdout",
     "output_type": "stream",
     "text": [
      "        id  year  month element  d1    d2    d3  d4    d5  d6  ...  d22   d23  \\\n",
      "0  MX17004  2010      1    tmax NaN   NaN   NaN NaN   NaN NaN  ...  NaN   NaN   \n",
      "1  MX17004  2010      1    tmin NaN   NaN   NaN NaN   NaN NaN  ...  NaN   NaN   \n",
      "2  MX17004  2010      2    tmax NaN  27.3  24.1 NaN   NaN NaN  ...  NaN  29.9   \n",
      "3  MX17004  2010      2    tmin NaN  14.4  14.4 NaN   NaN NaN  ...  NaN  10.7   \n",
      "4  MX17004  2010      3    tmax NaN   NaN   NaN NaN  32.1 NaN  ...  NaN   NaN   \n",
      "\n",
      "   d24  d25  d26  d27  d28  d29   d30  d31  \n",
      "0  NaN  NaN  NaN  NaN  NaN  NaN  27.8  NaN  \n",
      "1  NaN  NaN  NaN  NaN  NaN  NaN  14.5  NaN  \n",
      "2  NaN  NaN  NaN  NaN  NaN  NaN   NaN  NaN  \n",
      "3  NaN  NaN  NaN  NaN  NaN  NaN   NaN  NaN  \n",
      "4  NaN  NaN  NaN  NaN  NaN  NaN   NaN  NaN  \n",
      "\n",
      "[5 rows x 35 columns]\n"
     ]
    }
   ],
   "source": [
    "weather = pd.read_csv('C:/Users/이재윤/Downloads/doit_pandas-master/doit_pandas-master/data/weather.csv')\n",
    "print(weather.iloc[:5, :])"
   ]
  },
  {
   "cell_type": "markdown",
   "id": "sweet-iceland",
   "metadata": {},
   "source": [
    "2) 다음은 melt 메서드로 일별 온도 측정값을 피벗한 것이다. 그러면 day열에 날짜 열이 정리되고 날짜 열의 데이터는 temp 열에 정리된다. 하지만 아직 최고, 최저온도가 한눈에 잘 들어오지 않는다."
   ]
  },
  {
   "cell_type": "code",
   "execution_count": 35,
   "id": "round-display",
   "metadata": {},
   "outputs": [
    {
     "name": "stdout",
     "output_type": "stream",
     "text": [
      "        id  year  month element day  temp\n",
      "0  MX17004  2010      1    tmax  d1   NaN\n",
      "1  MX17004  2010      1    tmin  d1   NaN\n",
      "2  MX17004  2010      2    tmax  d1   NaN\n",
      "3  MX17004  2010      2    tmin  d1   NaN\n",
      "4  MX17004  2010      3    tmax  d1   NaN\n"
     ]
    }
   ],
   "source": [
    "weather_melt = pd.melt(weather, id_vars=['id', 'year', 'month', 'element'], var_name='day', value_name='temp')\n",
    "print(weather_melt.head())"
   ]
  },
  {
   "cell_type": "markdown",
   "id": "administrative-navigation",
   "metadata": {},
   "source": [
    "3) 이제 pivot_table 메서드를 사용해 보자. pivot_table 메서드는 행과 열의 위치를 다시 바꿔 정리해 준다. index 인자에는 위치를 그대로 유지할 열 이름을 지정하고, columns 인자에는 피벗할 열 이름을 지정하고, values 인자에는 새로운 열의 데이터가 될 열 이름을 지정하면 된다."
   ]
  },
  {
   "cell_type": "code",
   "execution_count": 36,
   "id": "referenced-framework",
   "metadata": {},
   "outputs": [
    {
     "name": "stdout",
     "output_type": "stream",
     "text": [
      "element                 tmax  tmin\n",
      "id      year month day            \n",
      "MX17004 2010 1     d1    NaN   NaN\n",
      "                   d10   NaN   NaN\n",
      "                   d11   NaN   NaN\n",
      "                   d12   NaN   NaN\n",
      "                   d13   NaN   NaN\n",
      "...                      ...   ...\n",
      "             12    d5    NaN   NaN\n",
      "                   d6   27.8  10.5\n",
      "                   d7    NaN   NaN\n",
      "                   d8    NaN   NaN\n",
      "                   d9    NaN   NaN\n",
      "\n",
      "[341 rows x 2 columns]\n"
     ]
    }
   ],
   "source": [
    "weather_tidy = weather_melt.pivot_table(\n",
    "    index=['id', 'year', 'month', 'day'],\n",
    "    columns='element',\n",
    "    values='temp',\n",
    "    dropna=False\n",
    ")\n",
    "print(weather_tidy)"
   ]
  },
  {
   "cell_type": "markdown",
   "id": "amazing-despite",
   "metadata": {},
   "source": [
    "4) 다음은 과정 3에서 구한 데이터프레임의 인덱스를 reset_index 메서드로 새로 지정한 것이다."
   ]
  },
  {
   "cell_type": "code",
   "execution_count": 37,
   "id": "rough-boards",
   "metadata": {},
   "outputs": [
    {
     "name": "stdout",
     "output_type": "stream",
     "text": [
      "element       id  year  month  day  tmax  tmin\n",
      "0        MX17004  2010      1   d1   NaN   NaN\n",
      "1        MX17004  2010      1  d10   NaN   NaN\n",
      "2        MX17004  2010      1  d11   NaN   NaN\n",
      "3        MX17004  2010      1  d12   NaN   NaN\n",
      "4        MX17004  2010      1  d13   NaN   NaN\n"
     ]
    }
   ],
   "source": [
    "weather_tidy_flat = weather_tidy.reset_index()\n",
    "\n",
    "print(weather_tidy_flat.head())"
   ]
  },
  {
   "cell_type": "markdown",
   "id": "quantitative-weekly",
   "metadata": {},
   "source": [
    "## 중복 데이터 처리하기\n",
    "\n",
    "\n",
    "이번에 다룰 빌보드 차트 데이터는 artist, track, time, date.entered 열의 데이터가 반복된다. 이런 반복되는 데이터는 따로 관리하는게 좋다.\n",
    "\n",
    "\n",
    "- 빌보드 차트의 중복 데이터 처리하기\n",
    "\n",
    "1) 다음은 빌보드 차트 데이터를 불러온 것이다.\n",
    "\n"
   ]
  },
  {
   "cell_type": "code",
   "execution_count": 38,
   "id": "studied-privacy",
   "metadata": {},
   "outputs": [
    {
     "name": "stdout",
     "output_type": "stream",
     "text": [
      "(24092, 7)\n"
     ]
    }
   ],
   "source": [
    "billboard = pd.read_csv('C:/users\\이재윤/downloads/doit_pandas-master/doit_pandas-master/data/billboard.csv')\n",
    "billboard_long = pd.melt(billboard, id_vars=['year', 'artist', 'track', 'time','date.entered'], var_name='week', value_name='rating')\n",
    "\n",
    "print(billboard_long.shape)"
   ]
  },
  {
   "cell_type": "code",
   "execution_count": 39,
   "id": "golden-snake",
   "metadata": {},
   "outputs": [
    {
     "name": "stdout",
     "output_type": "stream",
     "text": [
      "   year        artist                    track  time date.entered week  rating\n",
      "0  2000         2 Pac  Baby Don't Cry (Keep...  4:22   2000-02-26  wk1    87.0\n",
      "1  2000       2Ge+her  The Hardest Part Of ...  3:15   2000-09-02  wk1    91.0\n",
      "2  2000  3 Doors Down               Kryptonite  3:53   2000-04-08  wk1    81.0\n",
      "3  2000  3 Doors Down                    Loser  4:24   2000-10-21  wk1    76.0\n",
      "4  2000      504 Boyz            Wobble Wobble  3:35   2000-04-15  wk1    57.0\n"
     ]
    }
   ],
   "source": [
    "print(billboard_long.head())"
   ]
  },
  {
   "cell_type": "markdown",
   "id": "billion-digest",
   "metadata": {},
   "source": [
    "2) 노래 제목이 Loser인 데이터만 따로 모아 살펴보면 중복데이터가 꽤 많다는 것을 알 수 있다. 예를 들어 가수는 고유한 값이기 때문에 따로 관리하는 것이 데이터의 일관성을 유지하는 데 더 도움이 된다.\n"
   ]
  },
  {
   "cell_type": "code",
   "execution_count": 40,
   "id": "figured-lexington",
   "metadata": {},
   "outputs": [
    {
     "name": "stdout",
     "output_type": "stream",
     "text": [
      "      year        artist  track  time date.entered week  rating\n",
      "3     2000  3 Doors Down  Loser  4:24   2000-10-21  wk1    76.0\n",
      "320   2000  3 Doors Down  Loser  4:24   2000-10-21  wk2    76.0\n",
      "637   2000  3 Doors Down  Loser  4:24   2000-10-21  wk3    72.0\n",
      "954   2000  3 Doors Down  Loser  4:24   2000-10-21  wk4    69.0\n",
      "1271  2000  3 Doors Down  Loser  4:24   2000-10-21  wk5    67.0\n"
     ]
    }
   ],
   "source": [
    "print(billboard_long[billboard_long.track == 'Loser'].head())"
   ]
  },
  {
   "cell_type": "markdown",
   "id": "valued-reception",
   "metadata": {},
   "source": [
    "3) 중복 데이터를 가지고 있는 열은 year, artist, track, time, date 입니다. 이 열을 따로 모아 새로운 데이터프레임에 저장한다.\n"
   ]
  },
  {
   "cell_type": "code",
   "execution_count": 43,
   "id": "exotic-lingerie",
   "metadata": {},
   "outputs": [
    {
     "name": "stdout",
     "output_type": "stream",
     "text": [
      "(24092, 4)\n"
     ]
    }
   ],
   "source": [
    "billboard_songs = billboard_long[['year', 'artist', 'track', 'time']]\n",
    "print(billboard_songs.shape)"
   ]
  },
  {
   "cell_type": "markdown",
   "id": "handy-rental",
   "metadata": {},
   "source": [
    "4) 그런 다음 drop_duplicates 메서드로 데이터프레임의 중복 데이터를 제거한다."
   ]
  },
  {
   "cell_type": "code",
   "execution_count": 44,
   "id": "cognitive-bookmark",
   "metadata": {},
   "outputs": [
    {
     "name": "stdout",
     "output_type": "stream",
     "text": [
      "(317, 4)\n"
     ]
    }
   ],
   "source": [
    "billboard_songs = billboard_songs.drop_duplicates()\n",
    "print(billboard_songs.shape)"
   ]
  },
  {
   "cell_type": "markdown",
   "id": "danish-treat",
   "metadata": {},
   "source": [
    "5) 중복을 제거한 데이터프레임에 다음과 같이 아이디도 추가한다."
   ]
  },
  {
   "cell_type": "code",
   "execution_count": 45,
   "id": "structured-collector",
   "metadata": {},
   "outputs": [
    {
     "name": "stdout",
     "output_type": "stream",
     "text": [
      "   year          artist                    track  time  id\n",
      "0  2000           2 Pac  Baby Don't Cry (Keep...  4:22   0\n",
      "1  2000         2Ge+her  The Hardest Part Of ...  3:15   1\n",
      "2  2000    3 Doors Down               Kryptonite  3:53   2\n",
      "3  2000    3 Doors Down                    Loser  4:24   3\n",
      "4  2000        504 Boyz            Wobble Wobble  3:35   4\n",
      "5  2000            98^0  Give Me Just One Nig...  3:24   5\n",
      "6  2000         A*Teens            Dancing Queen  3:44   6\n",
      "7  2000         Aaliyah            I Don't Wanna  4:15   7\n",
      "8  2000         Aaliyah                Try Again  4:03   8\n",
      "9  2000  Adams, Yolanda            Open My Heart  5:30   9\n"
     ]
    }
   ],
   "source": [
    "billboard_songs['id'] = range(len(billboard_songs))\n",
    "print(billboard_songs.head(10))"
   ]
  },
  {
   "cell_type": "markdown",
   "id": "macro-strain",
   "metadata": {},
   "source": [
    "6) 다음은 merge 메서드를 사용해 노래 정보와 주간 순위 데이터를 합친 것이다."
   ]
  },
  {
   "cell_type": "code",
   "execution_count": 46,
   "id": "professional-albuquerque",
   "metadata": {},
   "outputs": [
    {
     "name": "stdout",
     "output_type": "stream",
     "text": [
      "(24092, 8)\n"
     ]
    }
   ],
   "source": [
    "billboard_ratings = billboard_long.merge(billboard_songs, on=['year','artist','track','time'])\n",
    "print(billboard_ratings.shape)"
   ]
  },
  {
   "cell_type": "code",
   "execution_count": 47,
   "id": "filled-basket",
   "metadata": {},
   "outputs": [
    {
     "name": "stdout",
     "output_type": "stream",
     "text": [
      "   year artist                    track  time date.entered week  rating  id\n",
      "0  2000  2 Pac  Baby Don't Cry (Keep...  4:22   2000-02-26  wk1    87.0   0\n",
      "1  2000  2 Pac  Baby Don't Cry (Keep...  4:22   2000-02-26  wk2    82.0   0\n",
      "2  2000  2 Pac  Baby Don't Cry (Keep...  4:22   2000-02-26  wk3    72.0   0\n",
      "3  2000  2 Pac  Baby Don't Cry (Keep...  4:22   2000-02-26  wk4    77.0   0\n",
      "4  2000  2 Pac  Baby Don't Cry (Keep...  4:22   2000-02-26  wk5    87.0   0\n"
     ]
    }
   ],
   "source": [
    "print(billboard_ratings.head())"
   ]
  },
  {
   "cell_type": "markdown",
   "id": "facial-arthur",
   "metadata": {},
   "source": [
    "## 대용량 데이터 처리하기\n",
    "\n",
    "\n",
    "### - 여러 개로 나누어진 데이터 불러오기\n",
    "\n",
    "데이터는 필요에 따라 나누어 저장하기도 합니다. 데이터를 나누어 저장하면 용량이 작아져 데이터를 저장하거나 다른 사람에게 공유할 때 유용하다. 또 어떤 경우에는 처음부터 크기가 작은 데이터가 생성되는 경우도 있다. 예를 들면 주식정보를 매일 수집한다면 일 단위로 데이터가 생성된다. 지금까지는 한 덩어리의 데이터를 불러와 여러 가지 실습을 진행해왔다. 그러면 여러개로 나누어진 데이터를 신속하게 불러오려면 어떻게 해야할까?\n",
    "\n",
    "-뉴욕 택시 데이터 준비하기\n",
    "\n",
    "뉴욕 택시 데이터는 13억 대의 뉴욕 택시에 대한 정보를 가지고 있다. 파일의 개수도 140개나 된다. 이 중에서 5개의 데이터만 사용해 보자.\n",
    "\n",
    "1) 다음을 입력하여 실행한 후 데이터를 내려받자. "
   ]
  },
  {
   "cell_type": "code",
   "execution_count": 74,
   "id": "uniform-disclosure",
   "metadata": {},
   "outputs": [
    {
     "name": "stdout",
     "output_type": "stream",
     "text": [
      "https://s3.amazonaws.com/nyc-tlc/trip+data/fhv_tripdata_2015-01.csv\n",
      "\n",
      "../pandas_exam_data\\fhv_tripdata_2015-01.csv\n",
      "https://s3.amazonaws.com/nyc-tlc/trip+data/fhv_tripdata_2015-02.csv\n",
      "\n",
      "../pandas_exam_data\\fhv_tripdata_2015-02.csv\n",
      "https://s3.amazonaws.com/nyc-tlc/trip+data/fhv_tripdata_2015-03.csv\n",
      "\n",
      "../pandas_exam_data\\fhv_tripdata_2015-03.csv\n",
      "https://s3.amazonaws.com/nyc-tlc/trip+data/fhv_tripdata_2015-04.csv\n",
      "\n",
      "../pandas_exam_data\\fhv_tripdata_2015-04.csv\n",
      "https://s3.amazonaws.com/nyc-tlc/trip+data/fhv_tripdata_2015-05.csv\n",
      "\n",
      "../pandas_exam_data\\fhv_tripdata_2015-05.csv\n"
     ]
    }
   ],
   "source": [
    "import os\n",
    "import urllib.request\n",
    "\n",
    "with open('C:/Users\\이재윤/doit_pandas_study/data/raw_data_urls.txt', 'r') as data_urls:\n",
    "    for line, url in enumerate(data_urls):\n",
    "        if line == 5:\n",
    "            break\n",
    "        fn = url.split('/')[-1].strip()\n",
    "        fp = os.path.join('../pandas_exam_data', fn)\n",
    "        print(url)\n",
    "        print(fp)\n",
    "        urllib.request.urlretrieve(url,fp)"
   ]
  },
  {
   "cell_type": "markdown",
   "id": "polished-harvey",
   "metadata": {},
   "source": [
    "2) 내려받은 데이터는 data 폴더에 'fhv_tripdata_YYYY_MM.csv' 라는 이름으로 저장된다. 이제 판다스로 데이터를 불러오자. glob 라이브러리에 포함된 glob 메서드는 특정한 패턴의 이름을 가진 파일을 한 번에 읽어 들일 수 있다. glob 메서드로 5개의 파일을 불러오자."
   ]
  },
  {
   "cell_type": "code",
   "execution_count": 75,
   "id": "continued-death",
   "metadata": {},
   "outputs": [
    {
     "name": "stdout",
     "output_type": "stream",
     "text": [
      "['../pandas_exam_data\\\\fhv_tripdata_2015-01.csv', '../pandas_exam_data\\\\fhv_tripdata_2015-02.csv', '../pandas_exam_data\\\\fhv_tripdata_2015-03.csv', '../pandas_exam_data\\\\fhv_tripdata_2015-04.csv', '../pandas_exam_data\\\\fhv_tripdata_2015-05.csv']\n"
     ]
    }
   ],
   "source": [
    "import glob\n",
    "nyc_taxi_data = glob.glob('../pandas_exam_data/fhv_*')\n",
    "print(nyc_taxi_data)"
   ]
  },
  {
   "cell_type": "markdown",
   "id": "laden-prince",
   "metadata": {},
   "source": [
    "3) 그런 다음 각각의 파일을 데이터 프레임으로 저장한다."
   ]
  },
  {
   "cell_type": "code",
   "execution_count": 76,
   "id": "divided-remark",
   "metadata": {},
   "outputs": [],
   "source": [
    "taxi1 = pd.read_csv(nyc_taxi_data[0])\n",
    "taxi2 = pd.read_csv(nyc_taxi_data[1])\n",
    "taxi3 = pd.read_csv(nyc_taxi_data[2])\n",
    "taxi4 = pd.read_csv(nyc_taxi_data[3])\n",
    "taxi5 = pd.read_csv(nyc_taxi_data[4])"
   ]
  },
  {
   "cell_type": "markdown",
   "id": "ecological-detector",
   "metadata": {},
   "source": [
    "4) 데이터를 잘 불러왔는지 확인한다."
   ]
  },
  {
   "cell_type": "code",
   "execution_count": 77,
   "id": "authentic-genre",
   "metadata": {},
   "outputs": [
    {
     "name": "stdout",
     "output_type": "stream",
     "text": [
      "  Dispatching_base_num          Pickup_date  locationID\n",
      "0               B00013  2015-01-01 00:30:00         NaN\n",
      "1               B00013  2015-01-01 01:22:00         NaN\n",
      "  Dispatching_base_num          Pickup_date  locationID\n",
      "0               B00013  2015-02-01 00:00:00         NaN\n",
      "1               B00013  2015-02-01 00:01:00         NaN\n",
      "  Dispatching_base_num          Pickup_date  locationID\n",
      "0               B00029  2015-03-01 00:02:00       213.0\n",
      "1               B00029  2015-03-01 00:03:00        51.0\n",
      "  Dispatching_base_num          Pickup_date  locationID\n",
      "0               B00001  2015-04-01 04:30:00         NaN\n",
      "1               B00001  2015-04-01 06:00:00         NaN\n",
      "  Dispatching_base_num          Pickup_date  locationID\n",
      "0               B00001  2015-05-01 04:30:00         NaN\n",
      "1               B00001  2015-05-01 05:00:00         NaN\n"
     ]
    }
   ],
   "source": [
    "print(taxi1.head(n=2))\n",
    "print(taxi2.head(n=2))\n",
    "print(taxi3.head(n=2))\n",
    "print(taxi4.head(n=2))\n",
    "print(taxi5.head(n=2))"
   ]
  },
  {
   "cell_type": "markdown",
   "id": "settled-bristol",
   "metadata": {},
   "source": [
    "5) 각 데이터의 구조, 즉 행과 열을 확인해 보자. 데이터가 꽤 크다는 것을 알 수 있다."
   ]
  },
  {
   "cell_type": "code",
   "execution_count": 79,
   "id": "consistent-chair",
   "metadata": {},
   "outputs": [
    {
     "name": "stdout",
     "output_type": "stream",
     "text": [
      "(2746033, 3)\n",
      "(3126401, 3)\n",
      "(3281427, 3)\n",
      "(3917789, 3)\n",
      "(4296067, 3)\n"
     ]
    }
   ],
   "source": [
    "print(taxi1.shape)\n",
    "print(taxi2.shape)\n",
    "print(taxi3.shape)\n",
    "print(taxi4.shape)\n",
    "print(taxi5.shape)"
   ]
  },
  {
   "cell_type": "markdown",
   "id": "correct-thread",
   "metadata": {},
   "source": [
    "6) 이제 데이터 처리를 위해 각 데이터프레임을 연결해야 한다. 다음은 concat 메서드로 모든 데이터 프레임을 연결한 것이다."
   ]
  },
  {
   "cell_type": "code",
   "execution_count": 81,
   "id": "average-character",
   "metadata": {},
   "outputs": [
    {
     "name": "stdout",
     "output_type": "stream",
     "text": [
      "(17367717, 3)\n"
     ]
    }
   ],
   "source": [
    "taxi = pd.concat([taxi1, taxi2, taxi3, taxi4, taxi5])\n",
    "print(taxi.shape)"
   ]
  },
  {
   "cell_type": "markdown",
   "id": "tracked-desire",
   "metadata": {},
   "source": [
    "### -알아두면 좋아요\n",
    "\n",
    "반복문을 응용하면 단 몇줄의 코드로 데이터를 준비할 수 있다. 앞의 실습에서 생성한 파일 목록을 반복문으로 읽어 들인 다음 리스트에 이어붙이면 된다. 그러면 리스트에 데이터프레임이 순서대로 저장된다."
   ]
  },
  {
   "cell_type": "code",
   "execution_count": 84,
   "id": "accredited-input",
   "metadata": {},
   "outputs": [
    {
     "name": "stdout",
     "output_type": "stream",
     "text": [
      "5\n"
     ]
    }
   ],
   "source": [
    "list_taxi_df = []\n",
    "\n",
    "for csv_filename in nyc_taxi_data:\n",
    "    #print(csv_filename)\n",
    "    df = pd.read_csv(csv_filename)\n",
    "    list_taxi_df.append(df)\n",
    "    \n",
    "print(len(list_taxi_df))"
   ]
  },
  {
   "cell_type": "code",
   "execution_count": 86,
   "id": "ultimate-begin",
   "metadata": {},
   "outputs": [
    {
     "name": "stdout",
     "output_type": "stream",
     "text": [
      "<class 'pandas.core.frame.DataFrame'>\n"
     ]
    }
   ],
   "source": [
    "print(type(list_taxi_df[0]))"
   ]
  },
  {
   "cell_type": "code",
   "execution_count": 87,
   "id": "executed-annual",
   "metadata": {},
   "outputs": [
    {
     "name": "stdout",
     "output_type": "stream",
     "text": [
      "  Dispatching_base_num          Pickup_date  locationID\n",
      "0               B00013  2015-01-01 00:30:00         NaN\n",
      "1               B00013  2015-01-01 01:22:00         NaN\n",
      "2               B00013  2015-01-01 01:23:00         NaN\n",
      "3               B00013  2015-01-01 01:44:00         NaN\n",
      "4               B00013  2015-01-01 02:00:00         NaN\n"
     ]
    }
   ],
   "source": [
    "print(list_taxi_df[0].head())"
   ]
  },
  {
   "cell_type": "code",
   "execution_count": 88,
   "id": "skilled-leadership",
   "metadata": {},
   "outputs": [
    {
     "name": "stdout",
     "output_type": "stream",
     "text": [
      "(17367717, 3)\n"
     ]
    }
   ],
   "source": [
    "taxi_loop_concat = pd.concat(list_taxi_df)\n",
    "print(taxi_loop_concat.shape)"
   ]
  },
  {
   "cell_type": "code",
   "execution_count": 89,
   "id": "bulgarian-spectrum",
   "metadata": {},
   "outputs": [
    {
     "name": "stdout",
     "output_type": "stream",
     "text": [
      "True\n"
     ]
    }
   ],
   "source": [
    "print(taxi.equals(taxi_loop_concat))"
   ]
  },
  {
   "cell_type": "markdown",
   "id": "purple-sample",
   "metadata": {},
   "source": []
  }
 ],
 "metadata": {
  "kernelspec": {
   "display_name": "Python 3",
   "language": "python",
   "name": "python3"
  },
  "language_info": {
   "codemirror_mode": {
    "name": "ipython",
    "version": 3
   },
   "file_extension": ".py",
   "mimetype": "text/x-python",
   "name": "python",
   "nbconvert_exporter": "python",
   "pygments_lexer": "ipython3",
   "version": "3.9.2"
  }
 },
 "nbformat": 4,
 "nbformat_minor": 5
}
