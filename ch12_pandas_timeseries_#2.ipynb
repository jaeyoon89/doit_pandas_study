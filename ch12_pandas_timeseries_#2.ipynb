{
 "cells": [
  {
   "cell_type": "markdown",
   "id": "helpful-commercial",
   "metadata": {},
   "source": [
    "# 사례별 시계열 데이터 계산하기\n",
    "\n",
    "\n",
    "\n",
    "- 에볼라 최초 발병일 계산하기\n",
    "\n",
    "\n",
    "1) ebola 데이터프레임의 마지막 행과 열을 5개씩만 살펴보자. ebola 데이터프레임은 데이터가 시간 역순으로 정렬되어 있다. 즉, 시간 순으로 데이터를 살펴 보려면 데이터프레임의 마지막부터 살펴봐야 한다."
   ]
  },
  {
   "cell_type": "code",
   "execution_count": 5,
   "id": "retired-diary",
   "metadata": {},
   "outputs": [],
   "source": [
    "import pandas as pd\n",
    "\n",
    "ebola = pd.read_csv('C:/Users/이재윤/doit_pandas/data/country_timeseries.csv')\n",
    "ebola['date_dt'] = pd.to_datetime(ebola['Date'])"
   ]
  },
  {
   "cell_type": "code",
   "execution_count": 6,
   "id": "powered-button",
   "metadata": {},
   "outputs": [
    {
     "name": "stdout",
     "output_type": "stream",
     "text": [
      "          Date  Day  Cases_Guinea  Cases_Liberia  Cases_SierraLeone\n",
      "117  3/27/2014    5         103.0            8.0                6.0\n",
      "118  3/26/2014    4          86.0            NaN                NaN\n",
      "119  3/25/2014    3          86.0            NaN                NaN\n",
      "120  3/24/2014    2          86.0            NaN                NaN\n",
      "121  3/22/2014    0          49.0            NaN                NaN\n"
     ]
    }
   ],
   "source": [
    "print(ebola.iloc[-5:, :5])   "
   ]
  },
  {
   "cell_type": "markdown",
   "id": "threaded-latin",
   "metadata": {},
   "source": [
    "2) 121행에서 볼 수 있듯이 에볼라가 발생하기 시작한 날은 2014년 03월 22일 입니다. 다음은 min 메서드를 사용하여 에볼라의 최초 발병일을 찾은 것이다."
   ]
  },
  {
   "cell_type": "code",
   "execution_count": 7,
   "id": "competent-backup",
   "metadata": {},
   "outputs": [
    {
     "name": "stdout",
     "output_type": "stream",
     "text": [
      "2014-03-22 00:00:00\n",
      "<class 'pandas._libs.tslibs.timestamps.Timestamp'>\n"
     ]
    }
   ],
   "source": [
    "print(ebola['date_dt'].min())\n",
    "print(type(ebola['date_dt'].min()))"
   ]
  },
  {
   "cell_type": "markdown",
   "id": "robust-adapter",
   "metadata": {},
   "source": [
    "3) 에볼라 최초 발병일일을 알아 냈으니 Date 열에서 에볼라의 최초 발병일을 빼면 에볼라의 진행 정도를 알 수 있다."
   ]
  },
  {
   "cell_type": "code",
   "execution_count": 8,
   "id": "ecological-coast",
   "metadata": {},
   "outputs": [
    {
     "name": "stdout",
     "output_type": "stream",
     "text": [
      "         Date  Day outbreak_d\n",
      "0    1/5/2015  289   289 days\n",
      "1    1/4/2015  288   288 days\n",
      "2    1/3/2015  287   287 days\n",
      "3    1/2/2015  286   286 days\n",
      "4  12/31/2014  284   284 days\n"
     ]
    }
   ],
   "source": [
    "ebola['outbreak_d'] = ebola['date_dt'] - ebola['date_dt'].min()\n",
    "\n",
    "print(ebola[['Date', 'Day', 'outbreak_d']].head())"
   ]
  },
  {
   "cell_type": "code",
   "execution_count": null,
   "id": "biblical-arbor",
   "metadata": {},
   "outputs": [],
   "source": []
  }
 ],
 "metadata": {
  "kernelspec": {
   "display_name": "Python 3",
   "language": "python",
   "name": "python3"
  },
  "language_info": {
   "codemirror_mode": {
    "name": "ipython",
    "version": 3
   },
   "file_extension": ".py",
   "mimetype": "text/x-python",
   "name": "python",
   "nbconvert_exporter": "python",
   "pygments_lexer": "ipython3",
   "version": "3.9.2"
  }
 },
 "nbformat": 4,
 "nbformat_minor": 5
}
